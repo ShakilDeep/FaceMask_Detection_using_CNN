{
 "cells": [
  {
   "cell_type": "markdown",
   "source": [
    "## Face Mask Detection using CNN\n",
    "### by Md. Shakil Uddin (KillerCoder)"
   ],
   "metadata": {
    "collapsed": false
   },
   "id": "f0530979de56ce6d"
  },
  {
   "cell_type": "code",
   "execution_count": 1,
   "outputs": [],
   "source": [
    "import os\n",
    "from keras.preprocessing import image\n",
    "import cv2\n",
    "import numpy as np"
   ],
   "metadata": {
    "collapsed": false,
    "ExecuteTime": {
     "end_time": "2023-09-15T17:17:00.380314400Z",
     "start_time": "2023-09-15T17:16:56.696870100Z"
    }
   },
   "id": "2478d5bbad84b315"
  },
  {
   "cell_type": "code",
   "execution_count": 2,
   "outputs": [],
   "source": [
    "categories = ['WithMask', 'WithoutMask']"
   ],
   "metadata": {
    "collapsed": false,
    "ExecuteTime": {
     "end_time": "2023-09-15T17:17:00.382822100Z",
     "start_time": "2023-09-15T17:17:00.380819Z"
    }
   },
   "id": "af95280e652f1f13"
  },
  {
   "cell_type": "code",
   "execution_count": 3,
   "outputs": [],
   "source": [
    "data = []\n",
    "for category in categories:\n",
    "    path = os.path.join('data', category)\n",
    "    label = categories.index(category)\n",
    "    for img in os.listdir(path):\n",
    "        img_path = os.path.join(path, img)\n",
    "        img = cv2.imread(img_path)\n",
    "        img = cv2.resize(img, (224, 224))  \n",
    "        data.append([img, label])"
   ],
   "metadata": {
    "collapsed": false,
    "ExecuteTime": {
     "end_time": "2023-09-15T17:17:19.895956700Z",
     "start_time": "2023-09-15T17:17:00.385823100Z"
    }
   },
   "id": "c84e165133a08818"
  },
  {
   "cell_type": "code",
   "execution_count": 4,
   "outputs": [
    {
     "name": "stdout",
     "output_type": "stream",
     "text": [
      "Total number of images: 10992\n"
     ]
    }
   ],
   "source": [
    "print(f\"Total number of images: {len(data)}\")"
   ],
   "metadata": {
    "collapsed": false,
    "ExecuteTime": {
     "end_time": "2023-09-15T17:17:19.909513500Z",
     "start_time": "2023-09-15T17:17:19.896956700Z"
    }
   },
   "id": "e6e878ad0b7839da"
  },
  {
   "cell_type": "markdown",
   "source": [
    "## Shuffle the data"
   ],
   "metadata": {
    "collapsed": false
   },
   "id": "35af2095d2fbdcb0"
  },
  {
   "cell_type": "code",
   "execution_count": 5,
   "outputs": [],
   "source": [
    "import random\n",
    "random.shuffle(data)"
   ],
   "metadata": {
    "collapsed": false,
    "ExecuteTime": {
     "end_time": "2023-09-15T17:17:19.920370400Z",
     "start_time": "2023-09-15T17:17:19.905513400Z"
    }
   },
   "id": "840fb4ec70528fa1"
  },
  {
   "cell_type": "code",
   "execution_count": 6,
   "outputs": [
    {
     "data": {
      "text/plain": "[array([[[254, 247, 197],\n         [254, 247, 197],\n         [254, 246, 198],\n         ...,\n         [ 61,  60,  68],\n         [ 54,  53,  59],\n         [ 51,  50,  54]],\n \n        [[254, 246, 198],\n         [254, 246, 198],\n         [254, 245, 199],\n         ...,\n         [ 60,  59,  67],\n         [ 54,  53,  58],\n         [ 51,  50,  54]],\n \n        [[253, 244, 199],\n         [253, 244, 199],\n         [253, 244, 200],\n         ...,\n         [ 59,  58,  65],\n         [ 53,  52,  58],\n         [ 51,  50,  54]],\n \n        ...,\n \n        [[255, 255, 195],\n         [255, 255, 195],\n         [255, 255, 195],\n         ...,\n         [254, 216, 186],\n         [252, 208, 175],\n         [251, 205, 169]],\n \n        [[255, 255, 195],\n         [255, 255, 195],\n         [255, 255, 195],\n         ...,\n         [253, 212, 179],\n         [250, 204, 167],\n         [248, 200, 162]],\n \n        [[255, 255, 195],\n         [255, 255, 195],\n         [255, 255, 195],\n         ...,\n         [253, 210, 175],\n         [249, 202, 164],\n         [247, 198, 158]]], dtype=uint8),\n 1]"
     },
     "execution_count": 6,
     "metadata": {},
     "output_type": "execute_result"
    }
   ],
   "source": [
    "data[0]"
   ],
   "metadata": {
    "collapsed": false,
    "ExecuteTime": {
     "end_time": "2023-09-15T17:17:19.990331600Z",
     "start_time": "2023-09-15T17:17:19.921369900Z"
    }
   },
   "id": "a0e72e79e4e148e1"
  },
  {
   "cell_type": "markdown",
   "source": [
    "## Seperating X and y and convert to numpy array"
   ],
   "metadata": {
    "collapsed": false
   },
   "id": "f5444cd8f4e10967"
  },
  {
   "cell_type": "code",
   "execution_count": 7,
   "outputs": [],
   "source": [
    "X = []\n",
    "y = []\n",
    "for features, label in data:\n",
    "    X.append(features)\n",
    "    y.append(label)"
   ],
   "metadata": {
    "collapsed": false,
    "ExecuteTime": {
     "end_time": "2023-09-15T17:17:20.016237800Z",
     "start_time": "2023-09-15T17:17:19.937374800Z"
    }
   },
   "id": "8c0017d13ee9351d"
  },
  {
   "cell_type": "code",
   "execution_count": 8,
   "outputs": [
    {
     "name": "stdout",
     "output_type": "stream",
     "text": [
      "Total number of images: 10992 and labels: 10992\n"
     ]
    }
   ],
   "source": [
    "print(f\"Total number of images: {len(X)} and labels: {len(y)}\")"
   ],
   "metadata": {
    "collapsed": false,
    "ExecuteTime": {
     "end_time": "2023-09-15T17:17:20.017241200Z",
     "start_time": "2023-09-15T17:17:19.948907900Z"
    }
   },
   "id": "c7d1e5f566407e56"
  },
  {
   "cell_type": "code",
   "execution_count": 9,
   "outputs": [],
   "source": [
    "import numpy as np"
   ],
   "metadata": {
    "collapsed": false,
    "ExecuteTime": {
     "end_time": "2023-09-15T17:17:20.017241200Z",
     "start_time": "2023-09-15T17:17:19.959289200Z"
    }
   },
   "id": "59deae6db71cf1ea"
  },
  {
   "cell_type": "code",
   "execution_count": 10,
   "outputs": [],
   "source": [
    "X = np.array(X)\n",
    "y = np.array(y)"
   ],
   "metadata": {
    "collapsed": false,
    "ExecuteTime": {
     "end_time": "2023-09-15T17:17:20.416394Z",
     "start_time": "2023-09-15T17:17:19.968322300Z"
    }
   },
   "id": "a52740fa9204da12"
  },
  {
   "cell_type": "code",
   "execution_count": 11,
   "outputs": [
    {
     "name": "stdout",
     "output_type": "stream",
     "text": [
      "Shape of X: (10992, 224, 224, 3) and y: (10992,)\n"
     ]
    }
   ],
   "source": [
    "print(f\"Shape of X: {X.shape} and y: {y.shape}\")"
   ],
   "metadata": {
    "collapsed": false,
    "ExecuteTime": {
     "end_time": "2023-09-15T17:17:20.420353900Z",
     "start_time": "2023-09-15T17:17:20.416394Z"
    }
   },
   "id": "340e64cfcd304f99"
  },
  {
   "cell_type": "markdown",
   "source": [
    "# Standardize the X"
   ],
   "metadata": {
    "collapsed": false
   },
   "id": "befb0ad3370f18d1"
  },
  {
   "cell_type": "code",
   "execution_count": 12,
   "outputs": [],
   "source": [
    "X = X/255"
   ],
   "metadata": {
    "collapsed": false,
    "ExecuteTime": {
     "end_time": "2023-09-15T17:17:24.573932Z",
     "start_time": "2023-09-15T17:17:20.422355300Z"
    }
   },
   "id": "ad18a47a3690a438"
  },
  {
   "cell_type": "code",
   "execution_count": 13,
   "outputs": [
    {
     "data": {
      "text/plain": "array([[[0.99607843, 0.96862745, 0.77254902],\n        [0.99607843, 0.96862745, 0.77254902],\n        [0.99607843, 0.96470588, 0.77647059],\n        ...,\n        [0.23921569, 0.23529412, 0.26666667],\n        [0.21176471, 0.20784314, 0.23137255],\n        [0.2       , 0.19607843, 0.21176471]],\n\n       [[0.99607843, 0.96470588, 0.77647059],\n        [0.99607843, 0.96470588, 0.77647059],\n        [0.99607843, 0.96078431, 0.78039216],\n        ...,\n        [0.23529412, 0.23137255, 0.2627451 ],\n        [0.21176471, 0.20784314, 0.22745098],\n        [0.2       , 0.19607843, 0.21176471]],\n\n       [[0.99215686, 0.95686275, 0.78039216],\n        [0.99215686, 0.95686275, 0.78039216],\n        [0.99215686, 0.95686275, 0.78431373],\n        ...,\n        [0.23137255, 0.22745098, 0.25490196],\n        [0.20784314, 0.20392157, 0.22745098],\n        [0.2       , 0.19607843, 0.21176471]],\n\n       ...,\n\n       [[1.        , 1.        , 0.76470588],\n        [1.        , 1.        , 0.76470588],\n        [1.        , 1.        , 0.76470588],\n        ...,\n        [0.99607843, 0.84705882, 0.72941176],\n        [0.98823529, 0.81568627, 0.68627451],\n        [0.98431373, 0.80392157, 0.6627451 ]],\n\n       [[1.        , 1.        , 0.76470588],\n        [1.        , 1.        , 0.76470588],\n        [1.        , 1.        , 0.76470588],\n        ...,\n        [0.99215686, 0.83137255, 0.70196078],\n        [0.98039216, 0.8       , 0.65490196],\n        [0.97254902, 0.78431373, 0.63529412]],\n\n       [[1.        , 1.        , 0.76470588],\n        [1.        , 1.        , 0.76470588],\n        [1.        , 1.        , 0.76470588],\n        ...,\n        [0.99215686, 0.82352941, 0.68627451],\n        [0.97647059, 0.79215686, 0.64313725],\n        [0.96862745, 0.77647059, 0.61960784]]])"
     },
     "execution_count": 13,
     "metadata": {},
     "output_type": "execute_result"
    }
   ],
   "source": [
    "X[0]"
   ],
   "metadata": {
    "collapsed": false,
    "ExecuteTime": {
     "end_time": "2023-09-15T17:17:24.593812Z",
     "start_time": "2023-09-15T17:17:24.576933Z"
    }
   },
   "id": "e25581e56548eda0"
  },
  {
   "cell_type": "code",
   "execution_count": 14,
   "outputs": [],
   "source": [
    "from sklearn.model_selection import train_test_split"
   ],
   "metadata": {
    "collapsed": false,
    "ExecuteTime": {
     "end_time": "2023-09-15T17:17:25.488140600Z",
     "start_time": "2023-09-15T17:17:24.595813Z"
    }
   },
   "id": "e91a7fb96866b2e6"
  },
  {
   "cell_type": "code",
   "execution_count": 15,
   "outputs": [],
   "source": [
    "X_train, X_test, y_train, y_test = train_test_split(X, y, test_size=0.2)"
   ],
   "metadata": {
    "collapsed": false,
    "ExecuteTime": {
     "end_time": "2023-09-15T17:18:12.256319Z",
     "start_time": "2023-09-15T17:17:25.490141200Z"
    }
   },
   "id": "bd76a48cf2fc3c90"
  },
  {
   "cell_type": "code",
   "execution_count": 16,
   "outputs": [
    {
     "name": "stdout",
     "output_type": "stream",
     "text": [
      "Shape of X_train: (8793, 224, 224, 3), y_train: (8793,), X_test: (2199, 224, 224, 3) and y_test: (2199,)\n"
     ]
    }
   ],
   "source": [
    "print(f\"Shape of X_train: {X_train.shape}, y_train: {y_train.shape}, X_test: {X_test.shape} and y_test: {y_test.shape}\")"
   ],
   "metadata": {
    "collapsed": false,
    "ExecuteTime": {
     "end_time": "2023-09-15T17:18:12.376744Z",
     "start_time": "2023-09-15T17:18:12.337337700Z"
    }
   },
   "id": "6786bad1dd5e2107"
  },
  {
   "cell_type": "markdown",
   "source": [
    "## Create a CNN model"
   ],
   "metadata": {
    "collapsed": false
   },
   "id": "fdf450196f65fc45"
  },
  {
   "cell_type": "code",
   "execution_count": 17,
   "outputs": [],
   "source": [
    "from keras.applications.vgg16 import VGG16"
   ],
   "metadata": {
    "collapsed": false,
    "ExecuteTime": {
     "end_time": "2023-09-15T17:18:12.438255400Z",
     "start_time": "2023-09-15T17:18:12.390746900Z"
    }
   },
   "id": "6c0854a746e1749"
  },
  {
   "cell_type": "code",
   "execution_count": 18,
   "outputs": [],
   "source": [
    "from keras import Sequential"
   ],
   "metadata": {
    "collapsed": false,
    "ExecuteTime": {
     "end_time": "2023-09-15T17:18:12.520345500Z",
     "start_time": "2023-09-15T17:18:12.442255800Z"
    }
   },
   "id": "d59e2fada1a9e9e3"
  },
  {
   "cell_type": "code",
   "execution_count": 19,
   "outputs": [],
   "source": [
    "model = Sequential()"
   ],
   "metadata": {
    "collapsed": false,
    "ExecuteTime": {
     "end_time": "2023-09-15T17:18:13.449047100Z",
     "start_time": "2023-09-15T17:18:12.521345100Z"
    }
   },
   "id": "832e6893a3643c9c"
  },
  {
   "cell_type": "code",
   "execution_count": 20,
   "outputs": [],
   "source": [
    "for layer in VGG16().layers[:-1]:\n",
    "    model.add(layer)"
   ],
   "metadata": {
    "collapsed": false,
    "ExecuteTime": {
     "end_time": "2023-09-15T17:18:20.642251600Z",
     "start_time": "2023-09-15T17:18:13.448047200Z"
    }
   },
   "id": "52923672c0c46339"
  },
  {
   "cell_type": "code",
   "execution_count": 21,
   "outputs": [
    {
     "name": "stdout",
     "output_type": "stream",
     "text": [
      "Model: \"sequential\"\n",
      "_________________________________________________________________\n",
      " Layer (type)                Output Shape              Param #   \n",
      "=================================================================\n",
      " block1_conv1 (Conv2D)       (None, 224, 224, 64)      1792      \n",
      "                                                                 \n",
      " block1_conv2 (Conv2D)       (None, 224, 224, 64)      36928     \n",
      "                                                                 \n",
      " block1_pool (MaxPooling2D)  (None, 112, 112, 64)      0         \n",
      "                                                                 \n",
      " block2_conv1 (Conv2D)       (None, 112, 112, 128)     73856     \n",
      "                                                                 \n",
      " block2_conv2 (Conv2D)       (None, 112, 112, 128)     147584    \n",
      "                                                                 \n",
      " block2_pool (MaxPooling2D)  (None, 56, 56, 128)       0         \n",
      "                                                                 \n",
      " block3_conv1 (Conv2D)       (None, 56, 56, 256)       295168    \n",
      "                                                                 \n",
      " block3_conv2 (Conv2D)       (None, 56, 56, 256)       590080    \n",
      "                                                                 \n",
      " block3_conv3 (Conv2D)       (None, 56, 56, 256)       590080    \n",
      "                                                                 \n",
      " block3_pool (MaxPooling2D)  (None, 28, 28, 256)       0         \n",
      "                                                                 \n",
      " block4_conv1 (Conv2D)       (None, 28, 28, 512)       1180160   \n",
      "                                                                 \n",
      " block4_conv2 (Conv2D)       (None, 28, 28, 512)       2359808   \n",
      "                                                                 \n",
      " block4_conv3 (Conv2D)       (None, 28, 28, 512)       2359808   \n",
      "                                                                 \n",
      " block4_pool (MaxPooling2D)  (None, 14, 14, 512)       0         \n",
      "                                                                 \n",
      " block5_conv1 (Conv2D)       (None, 14, 14, 512)       2359808   \n",
      "                                                                 \n",
      " block5_conv2 (Conv2D)       (None, 14, 14, 512)       2359808   \n",
      "                                                                 \n",
      " block5_conv3 (Conv2D)       (None, 14, 14, 512)       2359808   \n",
      "                                                                 \n",
      " block5_pool (MaxPooling2D)  (None, 7, 7, 512)         0         \n",
      "                                                                 \n",
      " flatten (Flatten)           (None, 25088)             0         \n",
      "                                                                 \n",
      " fc1 (Dense)                 (None, 4096)              102764544 \n",
      "                                                                 \n",
      " fc2 (Dense)                 (None, 4096)              16781312  \n",
      "                                                                 \n",
      "=================================================================\n",
      "Total params: 134260544 (512.16 MB)\n",
      "Trainable params: 134260544 (512.16 MB)\n",
      "Non-trainable params: 0 (0.00 Byte)\n",
      "_________________________________________________________________\n"
     ]
    }
   ],
   "source": [
    "model.summary()"
   ],
   "metadata": {
    "collapsed": false,
    "ExecuteTime": {
     "end_time": "2023-09-15T17:18:20.832593400Z",
     "start_time": "2023-09-15T17:18:20.644252100Z"
    }
   },
   "id": "6ca1033f84ed043b"
  },
  {
   "cell_type": "markdown",
   "source": [
    "## Freeze the layers"
   ],
   "metadata": {
    "collapsed": false
   },
   "id": "8eabd2f87b306348"
  },
  {
   "cell_type": "code",
   "execution_count": 22,
   "outputs": [],
   "source": [
    "for layer in model.layers:\n",
    "    layer.trainable = False"
   ],
   "metadata": {
    "collapsed": false,
    "ExecuteTime": {
     "end_time": "2023-09-15T17:18:20.835593600Z",
     "start_time": "2023-09-15T17:18:20.689322Z"
    }
   },
   "id": "23913e79dff7fd1c"
  },
  {
   "cell_type": "code",
   "execution_count": 23,
   "outputs": [
    {
     "name": "stdout",
     "output_type": "stream",
     "text": [
      "Model: \"sequential\"\n",
      "_________________________________________________________________\n",
      " Layer (type)                Output Shape              Param #   \n",
      "=================================================================\n",
      " block1_conv1 (Conv2D)       (None, 224, 224, 64)      1792      \n",
      "                                                                 \n",
      " block1_conv2 (Conv2D)       (None, 224, 224, 64)      36928     \n",
      "                                                                 \n",
      " block1_pool (MaxPooling2D)  (None, 112, 112, 64)      0         \n",
      "                                                                 \n",
      " block2_conv1 (Conv2D)       (None, 112, 112, 128)     73856     \n",
      "                                                                 \n",
      " block2_conv2 (Conv2D)       (None, 112, 112, 128)     147584    \n",
      "                                                                 \n",
      " block2_pool (MaxPooling2D)  (None, 56, 56, 128)       0         \n",
      "                                                                 \n",
      " block3_conv1 (Conv2D)       (None, 56, 56, 256)       295168    \n",
      "                                                                 \n",
      " block3_conv2 (Conv2D)       (None, 56, 56, 256)       590080    \n",
      "                                                                 \n",
      " block3_conv3 (Conv2D)       (None, 56, 56, 256)       590080    \n",
      "                                                                 \n",
      " block3_pool (MaxPooling2D)  (None, 28, 28, 256)       0         \n",
      "                                                                 \n",
      " block4_conv1 (Conv2D)       (None, 28, 28, 512)       1180160   \n",
      "                                                                 \n",
      " block4_conv2 (Conv2D)       (None, 28, 28, 512)       2359808   \n",
      "                                                                 \n",
      " block4_conv3 (Conv2D)       (None, 28, 28, 512)       2359808   \n",
      "                                                                 \n",
      " block4_pool (MaxPooling2D)  (None, 14, 14, 512)       0         \n",
      "                                                                 \n",
      " block5_conv1 (Conv2D)       (None, 14, 14, 512)       2359808   \n",
      "                                                                 \n",
      " block5_conv2 (Conv2D)       (None, 14, 14, 512)       2359808   \n",
      "                                                                 \n",
      " block5_conv3 (Conv2D)       (None, 14, 14, 512)       2359808   \n",
      "                                                                 \n",
      " block5_pool (MaxPooling2D)  (None, 7, 7, 512)         0         \n",
      "                                                                 \n",
      " flatten (Flatten)           (None, 25088)             0         \n",
      "                                                                 \n",
      " fc1 (Dense)                 (None, 4096)              102764544 \n",
      "                                                                 \n",
      " fc2 (Dense)                 (None, 4096)              16781312  \n",
      "                                                                 \n",
      "=================================================================\n",
      "Total params: 134260544 (512.16 MB)\n",
      "Trainable params: 0 (0.00 Byte)\n",
      "Non-trainable params: 134260544 (512.16 MB)\n",
      "_________________________________________________________________\n"
     ]
    }
   ],
   "source": [
    "model.summary()"
   ],
   "metadata": {
    "collapsed": false,
    "ExecuteTime": {
     "end_time": "2023-09-15T17:18:21.014325700Z",
     "start_time": "2023-09-15T17:18:20.707325800Z"
    }
   },
   "id": "31f5464596bcda31"
  },
  {
   "cell_type": "code",
   "execution_count": 24,
   "outputs": [],
   "source": [
    "from keras.layers import Dense"
   ],
   "metadata": {
    "collapsed": false,
    "ExecuteTime": {
     "end_time": "2023-09-15T17:18:21.032329400Z",
     "start_time": "2023-09-15T17:18:20.784980400Z"
    }
   },
   "id": "c36455ff11fc2d57"
  },
  {
   "cell_type": "code",
   "execution_count": 25,
   "outputs": [],
   "source": [
    "model.add(Dense(units=1, activation='sigmoid'))"
   ],
   "metadata": {
    "collapsed": false,
    "ExecuteTime": {
     "end_time": "2023-09-15T17:18:21.246377700Z",
     "start_time": "2023-09-15T17:18:20.802585800Z"
    }
   },
   "id": "bcf40063fb7ed37f"
  },
  {
   "cell_type": "code",
   "execution_count": 26,
   "outputs": [
    {
     "name": "stdout",
     "output_type": "stream",
     "text": [
      "Model: \"sequential\"\n",
      "_________________________________________________________________\n",
      " Layer (type)                Output Shape              Param #   \n",
      "=================================================================\n",
      " block1_conv1 (Conv2D)       (None, 224, 224, 64)      1792      \n",
      "                                                                 \n",
      " block1_conv2 (Conv2D)       (None, 224, 224, 64)      36928     \n",
      "                                                                 \n",
      " block1_pool (MaxPooling2D)  (None, 112, 112, 64)      0         \n",
      "                                                                 \n",
      " block2_conv1 (Conv2D)       (None, 112, 112, 128)     73856     \n",
      "                                                                 \n",
      " block2_conv2 (Conv2D)       (None, 112, 112, 128)     147584    \n",
      "                                                                 \n",
      " block2_pool (MaxPooling2D)  (None, 56, 56, 128)       0         \n",
      "                                                                 \n",
      " block3_conv1 (Conv2D)       (None, 56, 56, 256)       295168    \n",
      "                                                                 \n",
      " block3_conv2 (Conv2D)       (None, 56, 56, 256)       590080    \n",
      "                                                                 \n",
      " block3_conv3 (Conv2D)       (None, 56, 56, 256)       590080    \n",
      "                                                                 \n",
      " block3_pool (MaxPooling2D)  (None, 28, 28, 256)       0         \n",
      "                                                                 \n",
      " block4_conv1 (Conv2D)       (None, 28, 28, 512)       1180160   \n",
      "                                                                 \n",
      " block4_conv2 (Conv2D)       (None, 28, 28, 512)       2359808   \n",
      "                                                                 \n",
      " block4_conv3 (Conv2D)       (None, 28, 28, 512)       2359808   \n",
      "                                                                 \n",
      " block4_pool (MaxPooling2D)  (None, 14, 14, 512)       0         \n",
      "                                                                 \n",
      " block5_conv1 (Conv2D)       (None, 14, 14, 512)       2359808   \n",
      "                                                                 \n",
      " block5_conv2 (Conv2D)       (None, 14, 14, 512)       2359808   \n",
      "                                                                 \n",
      " block5_conv3 (Conv2D)       (None, 14, 14, 512)       2359808   \n",
      "                                                                 \n",
      " block5_pool (MaxPooling2D)  (None, 7, 7, 512)         0         \n",
      "                                                                 \n",
      " flatten (Flatten)           (None, 25088)             0         \n",
      "                                                                 \n",
      " fc1 (Dense)                 (None, 4096)              102764544 \n",
      "                                                                 \n",
      " fc2 (Dense)                 (None, 4096)              16781312  \n",
      "                                                                 \n",
      " dense (Dense)               (None, 1)                 4097      \n",
      "                                                                 \n",
      "=================================================================\n",
      "Total params: 134264641 (512.18 MB)\n",
      "Trainable params: 4097 (16.00 KB)\n",
      "Non-trainable params: 134260544 (512.16 MB)\n",
      "_________________________________________________________________\n"
     ]
    }
   ],
   "source": [
    "model.summary()"
   ],
   "metadata": {
    "collapsed": false,
    "ExecuteTime": {
     "end_time": "2023-09-15T17:18:21.282385900Z",
     "start_time": "2023-09-15T17:18:20.849491800Z"
    }
   },
   "id": "67d5cd5fdc508898"
  },
  {
   "cell_type": "code",
   "execution_count": 27,
   "outputs": [],
   "source": [
    "model.compile(optimizer='adam', loss='binary_crossentropy', metrics=['accuracy'])"
   ],
   "metadata": {
    "collapsed": false,
    "ExecuteTime": {
     "end_time": "2023-09-15T17:18:21.285386400Z",
     "start_time": "2023-09-15T17:18:20.916162100Z"
    }
   },
   "id": "7e1b4bb5b168bea6"
  },
  {
   "cell_type": "markdown",
   "source": [
    "## This block took 2 hours to train"
   ],
   "metadata": {
    "collapsed": false
   },
   "id": "6018a8e3b355f75a"
  },
  {
   "cell_type": "code",
   "execution_count": 28,
   "outputs": [
    {
     "name": "stdout",
     "output_type": "stream",
     "text": [
      "Epoch 1/7\n",
      "275/275 [==============================] - 1090s 4s/step - loss: 0.2147 - accuracy: 0.9245 - val_loss: 0.1767 - val_accuracy: 0.9263\n",
      "Epoch 2/7\n",
      "275/275 [==============================] - 1089s 4s/step - loss: 0.1135 - accuracy: 0.9605 - val_loss: 0.1032 - val_accuracy: 0.9650\n",
      "Epoch 3/7\n",
      "275/275 [==============================] - 1077s 4s/step - loss: 0.0928 - accuracy: 0.9674 - val_loss: 0.1044 - val_accuracy: 0.9618\n",
      "Epoch 4/7\n",
      "275/275 [==============================] - 1079s 4s/step - loss: 0.0798 - accuracy: 0.9727 - val_loss: 0.0804 - val_accuracy: 0.9745\n",
      "Epoch 5/7\n",
      "275/275 [==============================] - 1077s 4s/step - loss: 0.0757 - accuracy: 0.9726 - val_loss: 0.0736 - val_accuracy: 0.9768\n",
      "Epoch 6/7\n",
      "275/275 [==============================] - 1070s 4s/step - loss: 0.0671 - accuracy: 0.9755 - val_loss: 0.0687 - val_accuracy: 0.9782\n",
      "Epoch 7/7\n",
      "275/275 [==============================] - 1080s 4s/step - loss: 0.0632 - accuracy: 0.9786 - val_loss: 0.0655 - val_accuracy: 0.9764\n"
     ]
    },
    {
     "data": {
      "text/plain": "<keras.src.callbacks.History at 0x22000ee0a10>"
     },
     "execution_count": 28,
     "metadata": {},
     "output_type": "execute_result"
    }
   ],
   "source": [
    "model.fit(X_train, y_train, epochs=7, validation_data=(X_test, y_test))"
   ],
   "metadata": {
    "collapsed": false,
    "ExecuteTime": {
     "end_time": "2023-09-15T19:25:41.256533Z",
     "start_time": "2023-09-15T17:18:20.935549200Z"
    }
   },
   "id": "cc9034099ba3c5eb"
  },
  {
   "cell_type": "code",
   "execution_count": 31,
   "outputs": [],
   "source": [
    "cap = cv2.VideoCapture(0)"
   ],
   "metadata": {
    "collapsed": false,
    "ExecuteTime": {
     "end_time": "2023-09-15T19:26:02.497680900Z",
     "start_time": "2023-09-15T19:26:00.542706700Z"
    }
   },
   "id": "7b3fe98c538b6b29"
  },
  {
   "cell_type": "code",
   "execution_count": 32,
   "outputs": [],
   "source": [
    "def detect_face_mask(img):\n",
    "    y_predic = model.predict(img.reshape(1, 224, 224, 3))\n",
    "    return y_predic[0][0]"
   ],
   "metadata": {
    "collapsed": false,
    "ExecuteTime": {
     "end_time": "2023-09-15T19:26:05.723161200Z",
     "start_time": "2023-09-15T19:26:05.718650100Z"
    }
   },
   "id": "d3d82a292f1bef8d"
  },
  {
   "cell_type": "code",
   "execution_count": 33,
   "outputs": [],
   "source": [
    "sample = cv2.imread('data/WithoutMask/11.png')\n",
    "sample = cv2.resize(sample, (224, 224))"
   ],
   "metadata": {
    "collapsed": false,
    "ExecuteTime": {
     "end_time": "2023-09-15T19:26:09.233251500Z",
     "start_time": "2023-09-15T19:26:09.148582300Z"
    }
   },
   "id": "ab242d7358e81cfe"
  },
  {
   "cell_type": "code",
   "execution_count": 34,
   "outputs": [],
   "source": [
    "def draw_label(img, text, pos, bg_color):\n",
    "    text_size = cv2.getTextSize(text, cv2.FONT_HERSHEY_SIMPLEX, 1, cv2.FILLED)\n",
    "    end_x = pos[0] + text_size[0][0] + 2\n",
    "    end_y = pos[1] - text_size[0][1] - 2\n",
    "    \n",
    "    cv2.rectangle(img, pos, (end_x, end_y), bg_color, cv2.FILLED)\n",
    "    cv2.putText(img, text, pos, cv2.FONT_HERSHEY_SIMPLEX, 1, (0,0,0), 1, cv2.LINE_AA)"
   ],
   "metadata": {
    "collapsed": false,
    "ExecuteTime": {
     "end_time": "2023-09-15T19:26:13.092316900Z",
     "start_time": "2023-09-15T19:26:13.080807800Z"
    }
   },
   "id": "48f21001e04942a6"
  },
  {
   "cell_type": "code",
   "execution_count": 35,
   "outputs": [],
   "source": [
    "haar = cv2.CascadeClassifier('haarcascade_frontalface_default.xml')"
   ],
   "metadata": {
    "collapsed": false,
    "ExecuteTime": {
     "end_time": "2023-09-15T19:26:17.865136100Z",
     "start_time": "2023-09-15T19:26:17.775045Z"
    }
   },
   "id": "5c9e79daa658bd95"
  },
  {
   "cell_type": "code",
   "execution_count": 36,
   "outputs": [],
   "source": [
    "def detect_face(img):\n",
    "    coods = haar.detectMultiScale(img)\n",
    "    return coods"
   ],
   "metadata": {
    "collapsed": false,
    "ExecuteTime": {
     "end_time": "2023-09-15T19:26:21.061942200Z",
     "start_time": "2023-09-15T19:26:21.059431500Z"
    }
   },
   "id": "a9a4a3e26b221ce4"
  },
  {
   "cell_type": "code",
   "execution_count": 38,
   "outputs": [],
   "source": [
    "while True:\n",
    "    ret, frame  = cap.read()\n",
    "    detect = detect_face(cv2.cvtColor(frame, cv2.COLOR_BGR2GRAY))\n",
    "    \n",
    "    for (x,y,w,h) in detect:\n",
    "        cv2.rectangle(frame, (x,y), (x+w, y+h), (0,255,0), 2)\n",
    "        \n",
    "    if len(detect) == 0:\n",
    "        draw_label(frame, 'Face Mask  Detected', (50,50), (0,255,0))\n",
    "    else:\n",
    "        draw_label(frame, 'Face Mask Not Detected', (50,50), (0,0,255))\n",
    "    \n",
    "    cv2.imshow('window', frame)\n",
    "    if cv2.waitKey(1) & 0xFF == ord('q'):     \n",
    "        break\n",
    "        \n",
    "cv2.destroyAllWindows()"
   ],
   "metadata": {
    "collapsed": false,
    "ExecuteTime": {
     "end_time": "2023-09-15T19:34:17.868920100Z",
     "start_time": "2023-09-15T19:33:16.479154700Z"
    }
   },
   "id": "8831384723de0076"
  },
  {
   "cell_type": "code",
   "execution_count": null,
   "outputs": [],
   "source": [],
   "metadata": {
    "collapsed": false
   },
   "id": "7e421d49114cf24d"
  }
 ],
 "metadata": {
  "kernelspec": {
   "display_name": "Python 3",
   "language": "python",
   "name": "python3"
  },
  "language_info": {
   "codemirror_mode": {
    "name": "ipython",
    "version": 2
   },
   "file_extension": ".py",
   "mimetype": "text/x-python",
   "name": "python",
   "nbconvert_exporter": "python",
   "pygments_lexer": "ipython2",
   "version": "2.7.6"
  }
 },
 "nbformat": 4,
 "nbformat_minor": 5
}
